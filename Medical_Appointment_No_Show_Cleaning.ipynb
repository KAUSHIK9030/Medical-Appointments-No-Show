{
 "cells": [
  {
   "cell_type": "code",
   "execution_count": 24,
   "metadata": {},
   "outputs": [],
   "source": [
    "import pandas as pd\n",
    "import numpy as np\n",
    "import matplotlib.pyplot as plt\n",
    "import seaborn as sns\n",
    "\n",
    "# Show full numbers instead of scientific notation\n",
    "pd.set_option('display.float_format', '{:.0f}'.format)\n",
    "df = pd.read_csv(\"Medical Appointment no shows.csv\", encoding = 'latin1')\n"
   ]
  },
  {
   "cell_type": "code",
   "execution_count": 25,
   "metadata": {},
   "outputs": [
    {
     "name": "stdout",
     "output_type": "stream",
     "text": [
      "Index(['PatientId', 'AppointmentID', 'Gender', 'ScheduledDay',\n",
      "       'AppointmentDay', 'Age', 'Neighbourhood', 'Scholarship', 'Hipertension',\n",
      "       'Diabetes', 'Alcoholism', 'Handcap', 'SMS_received', 'No-show'],\n",
      "      dtype='object')\n"
     ]
    }
   ],
   "source": [
    "# Checking the columns\n",
    "print(df.columns)"
   ]
  },
  {
   "cell_type": "code",
   "execution_count": 26,
   "metadata": {},
   "outputs": [],
   "source": [
    "# Renaming columns\n",
    "\n",
    "df.rename(columns={\n",
    "    'PatientId': 'Patient ID',\n",
    "    'AppointmentID': 'Appointment ID',\n",
    "    'No-show': 'No show', \n",
    "    'ScheduledDay': 'Scheduled Day', \n",
    "    'AppointmentDay': 'Appointment Day',\n",
    "    'Handcap' : 'Handicap',\n",
    "    'SMS_received': 'SMS Received',\n",
    "}, inplace=True)"
   ]
  },
  {
   "cell_type": "code",
   "execution_count": 27,
   "metadata": {},
   "outputs": [
    {
     "data": {
      "text/plain": [
       "Index(['Patient ID', 'Appointment ID', 'Gender', 'Scheduled Day',\n",
       "       'Appointment Day', 'Age', 'Neighbourhood', 'Scholarship',\n",
       "       'Hipertension', 'Diabetes', 'Alcoholism', 'Handicap', 'SMS Received',\n",
       "       'No show'],\n",
       "      dtype='object')"
      ]
     },
     "execution_count": 27,
     "metadata": {},
     "output_type": "execute_result"
    }
   ],
   "source": [
    "df.columns"
   ]
  },
  {
   "cell_type": "code",
   "execution_count": 28,
   "metadata": {},
   "outputs": [
    {
     "name": "stdout",
     "output_type": "stream",
     "text": [
      "<class 'pandas.core.frame.DataFrame'>\n",
      "RangeIndex: 110527 entries, 0 to 110526\n",
      "Data columns (total 14 columns):\n",
      " #   Column           Non-Null Count   Dtype  \n",
      "---  ------           --------------   -----  \n",
      " 0   Patient ID       110527 non-null  float64\n",
      " 1   Appointment ID   110527 non-null  int64  \n",
      " 2   Gender           110527 non-null  object \n",
      " 3   Scheduled Day    110527 non-null  object \n",
      " 4   Appointment Day  110527 non-null  object \n",
      " 5   Age              110527 non-null  int64  \n",
      " 6   Neighbourhood    110527 non-null  object \n",
      " 7   Scholarship      110527 non-null  int64  \n",
      " 8   Hipertension     110527 non-null  int64  \n",
      " 9   Diabetes         110527 non-null  int64  \n",
      " 10  Alcoholism       110527 non-null  int64  \n",
      " 11  Handicap         110527 non-null  int64  \n",
      " 12  SMS Received     110527 non-null  int64  \n",
      " 13  No show          110527 non-null  object \n",
      "dtypes: float64(1), int64(8), object(5)\n",
      "memory usage: 11.8+ MB\n"
     ]
    },
    {
     "data": {
      "text/plain": [
       "Index(['Patient ID', 'Appointment ID', 'Gender', 'Scheduled Day',\n",
       "       'Appointment Day', 'Age', 'Neighbourhood', 'Scholarship',\n",
       "       'Hipertension', 'Diabetes', 'Alcoholism', 'Handicap', 'SMS Received',\n",
       "       'No show'],\n",
       "      dtype='object')"
      ]
     },
     "execution_count": 28,
     "metadata": {},
     "output_type": "execute_result"
    }
   ],
   "source": [
    "# View column names and data types\n",
    "df.info()\n",
    "\n",
    "# Checking for missing values\n",
    "df.isnull().sum()\n",
    "\n",
    "# Preview column names\n",
    "df.columns"
   ]
  },
  {
   "cell_type": "code",
   "execution_count": 29,
   "metadata": {},
   "outputs": [],
   "source": [
    "# Removing duplicates\n",
    "df = df.drop_duplicates()\n",
    "\n",
    "# Removing rows with invalid Age values\n",
    "df = df[df['Age'] >= 0]"
   ]
  },
  {
   "cell_type": "code",
   "execution_count": 30,
   "metadata": {},
   "outputs": [
    {
     "name": "stdout",
     "output_type": "stream",
     "text": [
      "Missing values in each column:\n",
      "Patient ID         0\n",
      "Appointment ID     0\n",
      "Gender             0\n",
      "Scheduled Day      0\n",
      "Appointment Day    0\n",
      "Age                0\n",
      "Neighbourhood      0\n",
      "Scholarship        0\n",
      "Hipertension       0\n",
      "Diabetes           0\n",
      "Alcoholism         0\n",
      "Handicap           0\n",
      "SMS Received       0\n",
      "No show            0\n",
      "dtype: int64\n",
      "\n",
      "Total missing values in dataset: 0\n"
     ]
    }
   ],
   "source": [
    "# Total missing values per column\n",
    "print(\"Missing values in each column:\")\n",
    "print(df.isnull().sum())\n",
    "\n",
    "# Total missing values in the whole dataset\n",
    "print(\"\\nTotal missing values in dataset:\", df.isnull().sum().sum())\n",
    "\n",
    "df = df.dropna()"
   ]
  },
  {
   "cell_type": "code",
   "execution_count": 31,
   "metadata": {},
   "outputs": [
    {
     "name": "stdout",
     "output_type": "stream",
     "text": [
      "\n",
      "Number of duplicate rows: 0\n",
      "Duplicates removed. New shape of dataset: (110526, 14)\n"
     ]
    }
   ],
   "source": [
    "# Checking how many duplicates exist\n",
    "duplicate_count = df.duplicated().sum()\n",
    "print(f\"\\nNumber of duplicate rows: {duplicate_count}\")\n",
    "\n",
    "# Drop duplicate rows\n",
    "df = df.drop_duplicates()\n",
    "print(\"Duplicates removed. New shape of dataset:\", df.shape)"
   ]
  },
  {
   "cell_type": "code",
   "execution_count": 32,
   "metadata": {},
   "outputs": [
    {
     "name": "stdout",
     "output_type": "stream",
     "text": [
      "Data Types Before Cleaning:\n",
      "Patient ID         float64\n",
      "Appointment ID       int64\n",
      "Gender              object\n",
      "Scheduled Day       object\n",
      "Appointment Day     object\n",
      "Age                  int64\n",
      "Neighbourhood       object\n",
      "Scholarship          int64\n",
      "Hipertension         int64\n",
      "Diabetes             int64\n",
      "Alcoholism           int64\n",
      "Handicap             int64\n",
      "SMS Received         int64\n",
      "No show             object\n",
      "dtype: object\n"
     ]
    }
   ],
   "source": [
    "# Checking current data types\n",
    "print(\"Data Types Before Cleaning:\")\n",
    "print(df.dtypes)"
   ]
  },
  {
   "cell_type": "code",
   "execution_count": 33,
   "metadata": {},
   "outputs": [
    {
     "name": "stdout",
     "output_type": "stream",
     "text": [
      "\n",
      "Data Types After Converting Dates:\n",
      "Patient ID                     float64\n",
      "Appointment ID                   int64\n",
      "Gender                          object\n",
      "Scheduled Day      datetime64[ns, UTC]\n",
      "Appointment Day    datetime64[ns, UTC]\n",
      "Age                              int64\n",
      "Neighbourhood                   object\n",
      "Scholarship                      int64\n",
      "Hipertension                     int64\n",
      "Diabetes                         int64\n",
      "Alcoholism                       int64\n",
      "Handicap                         int64\n",
      "SMS Received                     int64\n",
      "No show                         object\n",
      "dtype: object\n"
     ]
    }
   ],
   "source": [
    "# Converting columns to datetime format\n",
    "df['Appointment Day'] = pd.to_datetime(df['Appointment Day'])\n",
    "df['Scheduled Day'] = pd.to_datetime(df['Scheduled Day'])\n",
    "\n",
    "# Confirm changes\n",
    "print(\"\\nData Types After Converting Dates:\")\n",
    "print(df.dtypes)\n"
   ]
  },
  {
   "cell_type": "code",
   "execution_count": 34,
   "metadata": {},
   "outputs": [],
   "source": [
    "# Checking and convert Age column \n",
    "df['Age'] = pd.to_numeric(df['Age'], errors='coerce')  \n",
    "\n",
    "df = df.dropna(subset=['Age'])\n",
    "\n",
    "# Convert to integer\n",
    "df['Age'] = df['Age'].astype(int)"
   ]
  },
  {
   "cell_type": "code",
   "execution_count": 35,
   "metadata": {},
   "outputs": [
    {
     "name": "stdout",
     "output_type": "stream",
     "text": [
      "Unique values in Gender:\n",
      "['F' 'M']\n"
     ]
    }
   ],
   "source": [
    "# Check unique values\n",
    "print(\"Unique values in Gender:\")\n",
    "print(df['Gender'].unique())"
   ]
  },
  {
   "cell_type": "code",
   "execution_count": 36,
   "metadata": {},
   "outputs": [],
   "source": [
    "# Map abbreviations to full words\n",
    "df['Gender'] = df['Gender'].map({'M': 'Male', 'F': 'Female'})"
   ]
  },
  {
   "cell_type": "code",
   "execution_count": 37,
   "metadata": {},
   "outputs": [
    {
     "name": "stdout",
     "output_type": "stream",
     "text": [
      "Final dataset shape: (110526, 14)\n",
      "\n",
      "Final few rows:\n",
      "            Patient ID  Appointment ID  Gender             Scheduled Day  \\\n",
      "110522   2572134369293         5651768  Female 2016-05-03 09:15:35+00:00   \n",
      "110523   3596266328735         5650093  Female 2016-05-03 07:27:33+00:00   \n",
      "110524  15576631729893         5630692  Female 2016-04-27 16:03:52+00:00   \n",
      "110525  92134931435557         5630323  Female 2016-04-27 15:09:23+00:00   \n",
      "110526 377511518121127         5629448  Female 2016-04-27 13:30:56+00:00   \n",
      "\n",
      "                 Appointment Day  Age Neighbourhood  Scholarship  \\\n",
      "110522 2016-06-07 00:00:00+00:00   56   MARIA ORTIZ            0   \n",
      "110523 2016-06-07 00:00:00+00:00   51   MARIA ORTIZ            0   \n",
      "110524 2016-06-07 00:00:00+00:00   21   MARIA ORTIZ            0   \n",
      "110525 2016-06-07 00:00:00+00:00   38   MARIA ORTIZ            0   \n",
      "110526 2016-06-07 00:00:00+00:00   54   MARIA ORTIZ            0   \n",
      "\n",
      "        Hipertension  Diabetes  Alcoholism  Handicap  SMS Received No show  \n",
      "110522             0         0           0         0             1      No  \n",
      "110523             0         0           0         0             1      No  \n",
      "110524             0         0           0         0             1      No  \n",
      "110525             0         0           0         0             1      No  \n",
      "110526             0         0           0         0             1      No  \n",
      "\n",
      "Final Data Types:\n",
      "Patient ID                     float64\n",
      "Appointment ID                   int64\n",
      "Gender                          object\n",
      "Scheduled Day      datetime64[ns, UTC]\n",
      "Appointment Day    datetime64[ns, UTC]\n",
      "Age                              int64\n",
      "Neighbourhood                   object\n",
      "Scholarship                      int64\n",
      "Hipertension                     int64\n",
      "Diabetes                         int64\n",
      "Alcoholism                       int64\n",
      "Handicap                         int64\n",
      "SMS Received                     int64\n",
      "No show                         object\n",
      "dtype: object\n"
     ]
    }
   ],
   "source": [
    "# Preview\n",
    "print(\"Final dataset shape:\", df.shape)\n",
    "print(\"\\nFinal few rows:\")\n",
    "print(df.tail())\n",
    "\n",
    "print(\"\\nFinal Data Types:\")\n",
    "print(df.dtypes)"
   ]
  },
  {
   "cell_type": "code",
   "execution_count": 38,
   "metadata": {},
   "outputs": [],
   "source": [
    "# Convert Patient Id to string before saving\n",
    "df['Patient ID'] = df['Patient ID'].astype(str)\n"
   ]
  },
  {
   "cell_type": "code",
   "execution_count": 39,
   "metadata": {},
   "outputs": [
    {
     "data": {
      "image/png": "[encoded data removed]",
      "text/plain": [
       "<Figure size 800x500 with 1 Axes>"
      ]
     },
     "metadata": {},
     "output_type": "display_data"
    }
   ],
   "source": [
    "# Visualizing the Data\n",
    "\n",
    "sns.set(style=\"whitegrid\")\n",
    "\n",
    "# Plot no-show count by gender\n",
    "plt.figure(figsize=(8, 5))\n",
    "sns.countplot(data=df, x='Gender', hue='No show', palette='pastel')\n",
    "\n",
    "# Labels and Title\n",
    "plt.title('No-show vs Show by Gender')\n",
    "plt.xlabel('Gender')\n",
    "plt.ylabel('Number of Appointments')\n",
    "plt.legend(title='No Show', loc='upper right')\n",
    "\n",
    "# Show plot\n",
    "plt.tight_layout()\n",
    "plt.show()"
   ]
  },
  {
   "cell_type": "code",
   "execution_count": 40,
   "metadata": {},
   "outputs": [
    {
     "name": "stdout",
     "output_type": "stream",
     "text": [
      "Cleaned dataset saved successfully!\n"
     ]
    }
   ],
   "source": [
    "df.to_csv(\"Cleaned_Medical_Appointment_No_Shows.csv\", index=False)\n",
    "print(\"Cleaned dataset saved successfully!\")"
   ]
  },
  {
   "cell_type": "code",
   "execution_count": null,
   "metadata": {},
   "outputs": [],
   "source": []
  }
 ],
 "metadata": {
  "kernelspec": {
   "display_name": "Python 3",
   "language": "python",
   "name": "python3"
  },
  "language_info": {
   "codemirror_mode": {
    "name": "ipython",
    "version": 3
   },
   "file_extension": ".py",
   "mimetype": "text/x-python",
   "name": "python",
   "nbconvert_exporter": "python",
   "pygments_lexer": "ipython3",
   "version": "3.12.6"
  }
 },
 "nbformat": 4,
 "nbformat_minor": 2
}
